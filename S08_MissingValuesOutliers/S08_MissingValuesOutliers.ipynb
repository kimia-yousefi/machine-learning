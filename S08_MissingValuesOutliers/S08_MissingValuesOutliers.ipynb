{
    "metadata": {
        "kernelspec": {
            "name": "SQL",
            "display_name": "SQL",
            "language": "sql"
        },
        "language_info": {
            "name": "sql",
            "version": ""
        }
    },
    "nbformat_minor": 2,
    "nbformat": 4,
    "cells": [
        {
            "cell_type": "code",
            "source": [
                "import numpy as np \n",
                "import pandas as pd \n",
                "import matplotlib.pyplot as plt "
            ],
            "metadata": {
                "vscode": {
                    "languageId": "powershell"
                },
                "azdata_cell_guid": "ca57c6e3-2e1b-49ba-8acd-6cd0d7d1f7c2",
                "language": "sql"
            },
            "outputs": [],
            "execution_count": null
        },
        {
            "cell_type": "code",
            "source": [
                "#Read data from file\n",
                "data = pd.read_csv('C:/Users/yousefi.k/Downloads/S08/cs_02.csv')\n",
                "data.head()"
            ],
            "metadata": {
                "vscode": {
                    "languageId": "powershell"
                },
                "azdata_cell_guid": "3fce843c-d2ee-412a-9c7b-9ab28c0c6e60",
                "language": "sql"
            },
            "outputs": [],
            "execution_count": null
        },
        {
            "cell_type": "code",
            "source": [
                "data.shape"
            ],
            "metadata": {
                "vscode": {
                    "languageId": "powershell"
                },
                "azdata_cell_guid": "bec555b1-32b2-4522-9466-5f9931da318d",
                "language": "sql"
            },
            "outputs": [],
            "execution_count": null
        },
        {
            "cell_type": "code",
            "source": [
                "data.info()"
            ],
            "metadata": {
                "vscode": {
                    "languageId": "powershell"
                },
                "azdata_cell_guid": "766f7c8a-8b09-4efa-b9df-2863fd8ce6fe",
                "language": "sql"
            },
            "outputs": [],
            "execution_count": null
        },
        {
            "cell_type": "code",
            "source": [
                "#Step 1: Determine the type of MVs\n",
                "#Know the cause\n",
                "np.sum(data.isnull(), axis = 0)"
            ],
            "metadata": {
                "vscode": {
                    "languageId": "powershell"
                },
                "azdata_cell_guid": "ffe40519-8be3-4d80-a136-d939ff9ab90b",
                "language": "sql"
            },
            "outputs": [],
            "execution_count": null
        },
        {
            "cell_type": "code",
            "source": [
                "#The number of MVs in each column\n",
                "np.sum(data == '.', axis = 0)"
            ],
            "metadata": {
                "vscode": {
                    "languageId": "powershell"
                },
                "azdata_cell_guid": "5d56af1e-30cd-49bc-9078-ce4e5b162606",
                "language": "sql"
            },
            "outputs": [],
            "execution_count": null
        },
        {
            "cell_type": "code",
            "source": [
                "#Replace '.' with nan\n",
                "data[data == '.'] = np.nan"
            ],
            "metadata": {
                "vscode": {
                    "languageId": "powershell"
                },
                "azdata_cell_guid": "5deaa05c-9f7d-46c5-b90a-8dca23d822cf",
                "language": "sql"
            },
            "outputs": [],
            "execution_count": null
        },
        {
            "cell_type": "code",
            "source": [
                "#The number of MVs in each column\n",
                "np.sum(data.isnull(), axis = 0)"
            ],
            "metadata": {
                "vscode": {
                    "languageId": "powershell"
                },
                "azdata_cell_guid": "43d11849-35d9-4e67-b9c4-c3c044c2c974",
                "language": "sql"
            },
            "outputs": [],
            "execution_count": null
        },
        {
            "cell_type": "code",
            "source": [
                "#Get info\n",
                "data.info()"
            ],
            "metadata": {
                "vscode": {
                    "languageId": "powershell"
                },
                "azdata_cell_guid": "7bfba68a-aa9a-4161-b52b-6830e7539e2e",
                "language": "sql"
            },
            "outputs": [],
            "execution_count": null
        },
        {
            "cell_type": "code",
            "source": [
                "#Use astype method to change data type of a column\n",
                "data['customer_satisfaction_score'].astype('float')"
            ],
            "metadata": {
                "vscode": {
                    "languageId": "powershell"
                },
                "azdata_cell_guid": "39ec7a86-7946-404d-b50b-17139dbc91f7",
                "language": "sql"
            },
            "outputs": [],
            "execution_count": null
        },
        {
            "cell_type": "code",
            "source": [
                "#Change data type of numeric columns\n",
                "data[data.columns[4 : ]] = data.iloc[:, 4 : ].apply(lambda col: col.astype('float'), axis = 0)"
            ],
            "metadata": {
                "vscode": {
                    "languageId": "powershell"
                },
                "azdata_cell_guid": "a9f0e101-256e-48db-8f62-505bd07ff4c9",
                "language": "sql"
            },
            "outputs": [],
            "execution_count": null
        },
        {
            "cell_type": "code",
            "source": [
                "data.info()"
            ],
            "metadata": {
                "vscode": {
                    "languageId": "powershell"
                },
                "azdata_cell_guid": "9d75a937-82f1-4a68-af9c-2f174499bfbb",
                "language": "sql"
            },
            "outputs": [],
            "execution_count": null
        },
        {
            "cell_type": "code",
            "source": [
                "#Step 2: Determine the extent of MVs\n",
                "#Summary of MVs in each column\n",
                "mvs_summary = pd.DataFrame({'freq' : np.sum(data.isnull(), axis = 0)})\n",
                "mvs_summary['pct'] = round(mvs_summary['freq'] / data.shape[0] * 100, 1)\n",
                "mvs_summary.sort_values(by = 'pct', ascending = False)"
            ],
            "metadata": {
                "vscode": {
                    "languageId": "powershell"
                },
                "azdata_cell_guid": "cc9f25b6-88b6-46c2-8d4f-bd53a0dda2e9",
                "language": "sql"
            },
            "outputs": [],
            "execution_count": null
        },
        {
            "cell_type": "code",
            "source": [
                "data.loc[:, 'mvs'] = np.sum(data.isnull(), axis = 1)\n",
                "data.sort_values(by = 'mvs', ascending = False).head(10)"
            ],
            "metadata": {
                "vscode": {
                    "languageId": "powershell"
                },
                "azdata_cell_guid": "7b71e026-5317-43cd-9749-a6cb10687b11",
                "language": "sql"
            },
            "outputs": [],
            "execution_count": null
        },
        {
            "cell_type": "code",
            "source": [
                "#Decision: remove cases with more than 50% mvs\n",
                "data.drop(index = [84, 65, 87, 85], inplace = True)"
            ],
            "metadata": {
                "vscode": {
                    "languageId": "powershell"
                },
                "azdata_cell_guid": "81f1857b-ffd6-44af-96af-6a3cdc7dffc7",
                "language": "sql"
            },
            "outputs": [],
            "execution_count": null
        },
        {
            "cell_type": "code",
            "source": [
                "#Decision: remove customers with 0 longevity\n",
                "data.drop(index = data.loc[data['customer_longevity'] == '0', :].index, inplace = True)"
            ],
            "metadata": {
                "vscode": {
                    "languageId": "powershell"
                },
                "azdata_cell_guid": "7ffd845f-c1a6-4cb6-b524-8101a6bdd341",
                "language": "sql"
            },
            "outputs": [],
            "execution_count": null
        },
        {
            "cell_type": "code",
            "source": [
                "#Summary of MVs in each column\n",
                "mvs_summary = pd.DataFrame({'freq' : np.sum(data.isnull(), axis = 0)})\n",
                "mvs_summary['pct'] = round(mvs_summary['freq'] / data.shape[0] * 100, 1)\n",
                "mvs_summary.sort_values(by = 'pct', ascending = False)"
            ],
            "metadata": {
                "vscode": {
                    "languageId": "powershell"
                },
                "azdata_cell_guid": "06b4bfaa-bf8d-4b8d-a0df-a55687649b55",
                "language": "sql"
            },
            "outputs": [],
            "execution_count": null
        },
        {
            "cell_type": "code",
            "source": [
                "#Step 3: Diagnose the randomness of the MVs processes\n",
                "#Create a list of conditions\n",
                "conditions = [data['customer_satisfaction_score'].isnull(), data['customer_satisfaction_score'].notnull()]\n",
                "#Create a list of the values needed to assign for each conditions\n",
                "values = [1, 0]\n",
                "#Create a new column and use np.select to assign values to it using the lists as arguments\n",
                "data['if_null'] = np.select(conditions, values)\n",
                "data.tail()"
            ],
            "metadata": {
                "vscode": {
                    "languageId": "powershell"
                },
                "azdata_cell_guid": "c6cbb510-10ff-439a-9d65-3a893ad42afe",
                "language": "sql"
            },
            "outputs": [],
            "execution_count": null
        },
        {
            "cell_type": "code",
            "source": [
                "#Evaluate the randomness of the MVs in customer_satisfaction_score from age perspective\n",
                "data.groupby(by = 'if_null')['age'].mean()"
            ],
            "metadata": {
                "vscode": {
                    "languageId": "powershell"
                },
                "azdata_cell_guid": "e045a480-2d8e-437b-94e4-dbbbb87689aa",
                "language": "sql",
                "tags": []
            },
            "outputs": [],
            "execution_count": null
        },
        {
            "cell_type": "code",
            "source": [
                "#Box plot for evaluating the randomness of the MVs in customer_satisfaction_score from age perspective\n",
                "plt.boxplot([data.loc[data['if_null'] == 0, 'age'], \n",
                "            data.loc[data['if_null'] == 1, 'age']])\n",
                "plt.xticks(ticks = [1, 2], labels = [0, 1])\n",
                "plt.title('MVs in customer satisfaction score \\n from age perspective')\n",
                "plt.show()"
            ],
            "metadata": {
                "vscode": {
                    "languageId": "powershell"
                },
                "azdata_cell_guid": "7fab473f-3d04-44f9-9298-a1c9dca7ddf8",
                "language": "sql"
            },
            "outputs": [],
            "execution_count": null
        },
        {
            "cell_type": "code",
            "source": [
                "#Evaluate the randomness of the MVs in customer_satisfaction_score from gender perspective\n",
                "#Cross tabulation analysis\n",
                "cross_tab_pct = round(pd.crosstab(data['customer_longevity'], data['if_null'], normalize = 'index'), 2)\n",
                "cross_tab_pct"
            ],
            "metadata": {
                "vscode": {
                    "languageId": "powershell"
                },
                "azdata_cell_guid": "6659d1f6-e244-4067-9d87-5b772e3c190f",
                "language": "sql"
            },
            "outputs": [],
            "execution_count": null
        },
        {
            "cell_type": "code",
            "source": [
                "#Remove temporary variables: mvs and if_null\n",
                "data.drop(columns = ['mvs', 'if_null'], inplace = True)\n",
                "data.head()"
            ],
            "metadata": {
                "vscode": {
                    "languageId": "powershell"
                },
                "azdata_cell_guid": "2b254ad4-0730-4d47-ad33-d51783d516e9",
                "language": "sql"
            },
            "outputs": [],
            "execution_count": null
        },
        {
            "cell_type": "code",
            "source": [
                "data.shape"
            ],
            "metadata": {
                "vscode": {
                    "languageId": "powershell"
                },
                "azdata_cell_guid": "c029e394-23b6-4bb4-9047-767b1612f7c3",
                "language": "sql"
            },
            "outputs": [],
            "execution_count": null
        },
        {
            "cell_type": "code",
            "source": [
                "#Step 4: Select the imputation method\n",
                "#Method 1: complete case approach\n",
                "data_complete_case = data.dropna(axis = 0, inplace = False)\n",
                "print(data_complete_case.shape)\n",
                "np.sum(data_complete_case.isnull(), axis = 0)"
            ],
            "metadata": {
                "vscode": {
                    "languageId": "powershell"
                },
                "azdata_cell_guid": "324abdeb-1eaf-48bb-aa33-a964d95b8bcc",
                "language": "sql"
            },
            "outputs": [],
            "execution_count": null
        },
        {
            "cell_type": "code",
            "source": [
                "#Method 2: mean substitution\n",
                "data_mean_sub = data.copy()\n",
                "#Substiude NAs w/ mean of each column\n",
                "data_mean_sub.iloc[:, 4 : ] = data_mean_sub.iloc[:, 4 : ].fillna(data_mean_sub.iloc[:, 4 : ].mean())\n",
                "print(data_mean_sub.shape)\n",
                "np.sum(data_mean_sub.isnull(), axis = 0)"
            ],
            "metadata": {
                "vscode": {
                    "languageId": "powershell"
                },
                "azdata_cell_guid": "ebd7c75a-1c0d-4b00-aecc-fad6ca18827c",
                "language": "sql"
            },
            "outputs": [],
            "execution_count": null
        },
        {
            "cell_type": "code",
            "source": [
                "#Data preparation for MICE \n",
                "data_mice_imputation = data.iloc[:, 1 :].reset_index(drop = True).copy()\n",
                "#Convert object columns to category data type\n",
                "data_mice_imputation['gender'] = data_mice_imputation['gender'].astype('category')\n",
                "data_mice_imputation['customer_longevity'] = data_mice_imputation['customer_longevity'].astype('category')"
            ],
            "metadata": {
                "vscode": {
                    "languageId": "powershell"
                },
                "azdata_cell_guid": "7f6c1265-cfb6-46de-9885-6adca0b68ee8",
                "language": "sql"
            },
            "outputs": [],
            "execution_count": null
        },
        {
            "cell_type": "code",
            "source": [
                "#Method 3: MICE\n",
                "#%pip install miceforest \n",
                "from miceforest import ImputationKernel #It uses lightgbm as a backend\n",
                "\n",
                "mice_kernel = ImputationKernel(data = data_mice_imputation, \n",
                "                               random_state = 123)\n",
                "#Run the kernel on the data for 10 iterations\n",
                "mice_kernel.mice(10)\n",
                "#Create the imputed data\n",
                "data_mice_imputation = mice_kernel.complete_data()\n",
                "print(data_mice_imputation.shape)\n",
                "np.sum(data_mice_imputation.isnull(), axis = 0)"
            ],
            "metadata": {
                "vscode": {
                    "languageId": "powershell"
                },
                "azdata_cell_guid": "1fea3108-d8a9-413c-8c30-f0ffdb7fbe78",
                "language": "sql"
            },
            "outputs": [],
            "execution_count": null
        },
        {
            "cell_type": "code",
            "source": [
                "#Step 5: correlation analysis\n",
                "#Method 1: complete case approach\n",
                "corr_complete_case = round(data_complete_case.iloc[:, 4 : ].corr(), 2)\n",
                "corr_complete_case"
            ],
            "metadata": {
                "vscode": {
                    "languageId": "powershell"
                },
                "azdata_cell_guid": "07cc7089-4157-46a1-b53f-5e2a9dfe790e",
                "language": "sql"
            },
            "outputs": [],
            "execution_count": null
        },
        {
            "cell_type": "code",
            "source": [
                "#Method 2: mean substitution\n",
                "corr_mean_sub = round(data_mean_sub.iloc[:, 4 : ].corr(), 2)\n",
                "corr_mean_sub"
            ],
            "metadata": {
                "vscode": {
                    "languageId": "powershell"
                },
                "azdata_cell_guid": "6db2814a-6fde-4062-be98-85ebf739725e",
                "language": "sql"
            },
            "outputs": [],
            "execution_count": null
        },
        {
            "cell_type": "code",
            "source": [
                "#Method 3: MICE\n",
                "corr_mice_imputation = round(data_mice_imputation.iloc[:, 3 : ].corr(), 2)\n",
                "corr_mice_imputation"
            ],
            "metadata": {
                "vscode": {
                    "languageId": "powershell"
                },
                "azdata_cell_guid": "f26ba5f1-a3f5-4de6-8970-bd6ff497e4e9",
                "language": "sql"
            },
            "outputs": [],
            "execution_count": null
        },
        {
            "cell_type": "code",
            "source": [
                "#Final correlation table\n",
                "corr_table = round((corr_complete_case + corr_mean_sub + corr_mice_imputation) / 3, 2)\n",
                "corr_table"
            ],
            "metadata": {
                "vscode": {
                    "languageId": "powershell"
                },
                "azdata_cell_guid": "12d6b137-bbf5-4a56-9ef5-e4df537a7d9a",
                "language": "sql"
            },
            "outputs": [],
            "execution_count": null
        },
        {
            "cell_type": "code",
            "source": [
                "#Summary\n",
                "#   The missing data process is MCAR\n",
                "#   Imputation is the most logical course of action\n",
                "#   Correlations differ slightly across imputation techniques"
            ],
            "metadata": {
                "vscode": {
                    "languageId": "powershell"
                },
                "azdata_cell_guid": "0729418c-25d2-426e-b271-7f0587fcb7db",
                "language": "sql"
            },
            "outputs": [],
            "execution_count": null
        },
        {
            "cell_type": "code",
            "source": [
                "#Problem of Masking\n",
                "import numpy as np\n",
                "x = np.array([2, 2, 2, 2, 2, 3, 3, 3, 3, 3, 4, 4, 4, 4, 4, 1000])\n",
                "y = np.array([2, 2, 3, 3, 3, 4, 4, 4, 10000, 100000])"
            ],
            "metadata": {
                "vscode": {
                    "languageId": "powershell"
                },
                "azdata_cell_guid": "23bb1820-7085-4096-8ad8-460d1b54a265",
                "language": "sql"
            },
            "outputs": [],
            "execution_count": null
        },
        {
            "cell_type": "code",
            "source": [
                "#Classic method for outlier detection\n",
                "#|(x - mean)/ sd| > 3\n",
                "print(abs((x - np.mean(x))/ np.std(x)) > 3)\n",
                "print(abs((y - np.mean(y))/ np.std(y)) > 3)"
            ],
            "metadata": {
                "vscode": {
                    "languageId": "powershell"
                },
                "azdata_cell_guid": "530ec737-944b-4bff-ae0a-d19ef45b0af3",
                "language": "sql"
            },
            "outputs": [],
            "execution_count": null
        },
        {
            "cell_type": "code",
            "source": [
                "#Tukey's method\n",
                "from scipy.stats import iqr\n",
                "#x > q(0.75) + 1.5 * IQR(x)\n",
                "#x < q(0.25) - 1.5 * IQR(x)\n",
                "print(x > np.quantile(x, 0.75) + 1.5 * iqr(x))\n",
                "print(y > np.quantile(y, 0.75) + 1.5 * iqr(y))"
            ],
            "metadata": {
                "vscode": {
                    "languageId": "powershell"
                },
                "azdata_cell_guid": "9ac69718-6dd4-447c-a2b6-38aac0767b38",
                "language": "sql"
            },
            "outputs": [],
            "execution_count": null
        }
    ]
}
