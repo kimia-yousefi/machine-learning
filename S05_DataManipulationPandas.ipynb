{
    "metadata": {
        "kernelspec": {
            "display_name": "Python 3",
            "language": "python",
            "name": "python3"
        },
        "language_info": {
            "codemirror_mode": {
                "name": "ipython",
                "version": 3
            },
            "file_extension": ".py",
            "mimetype": "text/x-python",
            "name": "python",
            "nbconvert_exporter": "python",
            "pygments_lexer": "ipython3",
            "version": "3.12.4"
        }
    },
    "nbformat_minor": 2,
    "nbformat": 4,
    "cells": [
        {
            "cell_type": "markdown",
            "source": [
                "# Data Manipulation with Pandas"
            ],
            "metadata": {
                "azdata_cell_guid": "63483ea4-f8ba-4e11-8ef8-db76a7403cd9"
            }
        },
        {
            "cell_type": "markdown",
            "source": [
                "## Data Science, Machine Learning and Artificial Intelligence - by Farzad Minooei"
            ],
            "metadata": {
                "azdata_cell_guid": "e137ec28-e86d-4244-bfc0-ada807ab2994"
            }
        },
        {
            "cell_type": "markdown",
            "source": [
                "## Pandas"
            ],
            "metadata": {
                "azdata_cell_guid": "00f08707-b3ca-4c34-9b8f-9ecff06dc95e"
            }
        },
        {
            "cell_type": "markdown",
            "source": [
                "Pandas is a fast, powerful, flexible and easy to use Python library for data manipulation and analysis.\n",
                "\n",
                "Check Pandas documentation: https://pandas.pydata.org/docs/getting_started/index.html#getting-started"
            ],
            "metadata": {
                "azdata_cell_guid": "cd8ad8c1-7959-468e-af13-a346fa336e81"
            }
        },
        {
            "cell_type": "code",
            "source": [
                "#Install pandas\n",
                "#%pip install pandas"
            ],
            "metadata": {
                "azdata_cell_guid": "1effff40-e17b-4733-98ae-cd9febf4479a",
                "language": "python"
            },
            "outputs": [],
            "execution_count": null
        },
        {
            "cell_type": "code",
            "source": [
                "#Import required libraries\n",
                "import numpy as np\n",
                "import pandas as pd\n",
                "#Get the version of pandas\n",
                "print(pd.__version__)"
            ],
            "metadata": {
                "azdata_cell_guid": "a44741c9-bace-4db8-8704-2b6e21da8946",
                "language": "python"
            },
            "outputs": [],
            "execution_count": null
        },
        {
            "cell_type": "markdown",
            "source": [
                "### Pandas Series"
            ],
            "metadata": {
                "azdata_cell_guid": "0ed2a1d4-f276-4225-a968-08aaf9095bc6"
            }
        },
        {
            "cell_type": "code",
            "source": [
                "#Create a series\n",
                "#Demand for four different products\n",
                "s1 = pd.Series([1750, 1200, 450, 2000])\n",
                "s1"
            ],
            "metadata": {
                "azdata_cell_guid": "6425abbc-756e-46d3-8e88-e15e08f1b55a",
                "language": "python"
            },
            "outputs": [],
            "execution_count": null
        },
        {
            "cell_type": "code",
            "source": [
                "#Type\n",
                "type(s1)"
            ],
            "metadata": {
                "azdata_cell_guid": "fb1a8795-a7c6-4bbf-834d-e6d3adf92cf7",
                "language": "python"
            },
            "outputs": [],
            "execution_count": null
        },
        {
            "cell_type": "code",
            "source": [
                "#Series name\n",
                "s1.name #without name"
            ],
            "metadata": {
                "azdata_cell_guid": "539d3178-9a89-4c38-a68d-e41c251be614",
                "language": "python"
            },
            "outputs": [],
            "execution_count": null
        },
        {
            "cell_type": "code",
            "source": [
                "#Assign new name\n",
                "s1.name = 'product_demand'\n",
                "s1"
            ],
            "metadata": {
                "azdata_cell_guid": "6d67e54d-963f-4922-8d6a-d35aa179d317",
                "language": "python"
            },
            "outputs": [],
            "execution_count": null
        },
        {
            "cell_type": "code",
            "source": [
                "#Corresponding array of a series\n",
                "s1.values"
            ],
            "metadata": {
                "azdata_cell_guid": "bbec1c17-a132-4bb0-af7c-ab40aac462fd",
                "language": "python"
            },
            "outputs": [],
            "execution_count": null
        },
        {
            "cell_type": "code",
            "source": [
                "type(s1.values)"
            ],
            "metadata": {
                "azdata_cell_guid": "03ec958b-cd1a-45d4-b228-a97490b2a2f8",
                "language": "python"
            },
            "outputs": [],
            "execution_count": null
        },
        {
            "cell_type": "code",
            "source": [
                "#Indexing\n",
                "s1.index"
            ],
            "metadata": {
                "azdata_cell_guid": "2c84ad19-188d-4a94-ba3c-607525049d3c",
                "language": "python"
            },
            "outputs": [],
            "execution_count": null
        },
        {
            "cell_type": "code",
            "source": [
                "#Extract an item from series with index\n",
                "s1[0]"
            ],
            "metadata": {
                "azdata_cell_guid": "4666a7ac-b776-46f8-9693-41eaad963f1c",
                "language": "python"
            },
            "outputs": [],
            "execution_count": null
        },
        {
            "cell_type": "code",
            "source": [
                "s1.index = ['p1', 'p2', 'p3', 'p4']\n",
                "s1.index"
            ],
            "metadata": {
                "azdata_cell_guid": "df94c29d-4d0a-446a-832a-59d1667fcb0d",
                "language": "python"
            },
            "outputs": [],
            "execution_count": null
        },
        {
            "cell_type": "code",
            "source": [
                "s1['p1']"
            ],
            "metadata": {
                "azdata_cell_guid": "e2139ee8-1a7d-4e4c-b23b-d501bd493139",
                "language": "python"
            },
            "outputs": [],
            "execution_count": null
        },
        {
            "cell_type": "code",
            "source": [
                "#Modifying series\n",
                "s1['p1'] = 1000\n",
                "s1"
            ],
            "metadata": {
                "azdata_cell_guid": "39f115f6-8f1b-475a-874c-22bac56a3baa",
                "language": "python"
            },
            "outputs": [],
            "execution_count": null
        },
        {
            "cell_type": "code",
            "source": [
                "#Add new value\n",
                "s1['p5'] = 1250\n",
                "s1"
            ],
            "metadata": {
                "azdata_cell_guid": "2094a78a-3190-4cfa-8055-efdc4cc19b51",
                "language": "python"
            },
            "outputs": [],
            "execution_count": null
        },
        {
            "cell_type": "code",
            "source": [
                "#Boolian operations\n",
                "s1 > 1000"
            ],
            "metadata": {
                "azdata_cell_guid": "238ee1cf-a4ae-4e69-86b9-5613a5d08220",
                "language": "python"
            },
            "outputs": [],
            "execution_count": null
        },
        {
            "cell_type": "code",
            "source": [
                "#Extract elements of a series with boolian operation\n",
                "s1[s1 > 1000]"
            ],
            "metadata": {
                "azdata_cell_guid": "16c0c4a3-0867-4b2d-8530-b4e363f65956",
                "language": "python"
            },
            "outputs": [],
            "execution_count": null
        },
        {
            "cell_type": "code",
            "source": [
                "#Mathematical operation\n",
                "s1 * 1.10"
            ],
            "metadata": {
                "azdata_cell_guid": "9a9fb535-08db-427d-bd17-669557bc72ba",
                "language": "python"
            },
            "outputs": [],
            "execution_count": null
        },
        {
            "cell_type": "code",
            "source": [
                "s1 = s1 * 1.10\n",
                "s1"
            ],
            "metadata": {
                "azdata_cell_guid": "0b3b759e-1fff-4e0b-b961-9889a26a607d",
                "language": "python"
            },
            "outputs": [],
            "execution_count": null
        },
        {
            "cell_type": "code",
            "source": [
                "#Find the mean of series\n",
                "s1.mean()"
            ],
            "metadata": {
                "azdata_cell_guid": "37ca6009-f106-4980-a32a-15ac1d46e4e9",
                "language": "python"
            },
            "outputs": [],
            "execution_count": null
        },
        {
            "cell_type": "code",
            "source": [
                "#Find the standard deviation of series\n",
                "s1.std()"
            ],
            "metadata": {
                "azdata_cell_guid": "b64194f5-95c5-4835-b97b-2bace2c7623b",
                "language": "python"
            },
            "outputs": [],
            "execution_count": null
        },
        {
            "cell_type": "code",
            "source": [
                "#  &: and\n",
                "#  |: or\n",
                "#  ~: not\n",
                "\n",
                "s1[(s1 < s1.mean()) & (s1 > 1000)]"
            ],
            "metadata": {
                "azdata_cell_guid": "214410da-a004-4f5c-95a6-049975ca1a2c",
                "language": "python"
            },
            "outputs": [],
            "execution_count": null
        },
        {
            "cell_type": "code",
            "source": [
                "s1[s1 <= 1000] = 0\n",
                "s1"
            ],
            "metadata": {
                "azdata_cell_guid": "5118985e-d4c4-4821-9c05-f7b8ea4a9ecd",
                "language": "python"
            },
            "outputs": [],
            "execution_count": null
        },
        {
            "cell_type": "markdown",
            "source": [
                "### Dataframes"
            ],
            "metadata": {
                "azdata_cell_guid": "47d4eac8-5b56-499b-9953-d23b9c813b34"
            }
        },
        {
            "cell_type": "code",
            "source": [
                "#Create a dataframe\n",
                "df = pd.DataFrame({'name'  : ['p1', 'p2', 'p3', 'p4'],\n",
                "                   'demand': [1750, 1200, 450, 2000],\n",
                "                   'brand' : ['x', 'x', 'y', 'z'],\n",
                "                   'weight': [150, 200, 1500, 200]})\n",
                "df"
            ],
            "metadata": {
                "azdata_cell_guid": "6747bdf4-d924-4b9a-ae1c-75cd18f4b564",
                "language": "python"
            },
            "outputs": [],
            "execution_count": null
        },
        {
            "cell_type": "code",
            "source": [
                "#Type\n",
                "type(df)"
            ],
            "metadata": {
                "azdata_cell_guid": "60fa403a-f06f-4d83-b0c4-26a61e4d0f56",
                "language": "python"
            },
            "outputs": [],
            "execution_count": null
        },
        {
            "cell_type": "code",
            "source": [
                "#Shape\n",
                "df.shape"
            ],
            "metadata": {
                "azdata_cell_guid": "411e41c4-f4f0-4995-ad77-4bd88dcc4e4d",
                "language": "python"
            },
            "outputs": [],
            "execution_count": null
        },
        {
            "cell_type": "code",
            "source": [
                "#Columns\n",
                "df.columns"
            ],
            "metadata": {
                "azdata_cell_guid": "d9ad7a51-6433-4331-8b98-8baf5e3ae17f",
                "language": "python"
            },
            "outputs": [],
            "execution_count": null
        },
        {
            "cell_type": "code",
            "source": [
                "#Index\n",
                "df.index"
            ],
            "metadata": {
                "azdata_cell_guid": "a30e7853-0cc1-4509-b474-c0cff82b4e92",
                "language": "python"
            },
            "outputs": [],
            "execution_count": null
        },
        {
            "cell_type": "code",
            "source": [
                "df.index = ['p1', 'p2', 'p3', 'p4']\n",
                "df"
            ],
            "metadata": {
                "azdata_cell_guid": "6a084612-7c8f-4be0-ad8c-f6893a3ef302",
                "language": "python"
            },
            "outputs": [],
            "execution_count": null
        },
        {
            "cell_type": "code",
            "source": [
                "df.info()"
            ],
            "metadata": {
                "azdata_cell_guid": "d4461496-7ca5-4572-aefc-1f264581497e",
                "language": "python"
            },
            "outputs": [],
            "execution_count": null
        },
        {
            "cell_type": "markdown",
            "source": [
                "#### Subsetting Dataframes"
            ],
            "metadata": {
                "azdata_cell_guid": "c6de41d8-3e24-43ec-a151-2ed548be9f11"
            }
        },
        {
            "cell_type": "code",
            "source": [
                "df"
            ],
            "metadata": {
                "azdata_cell_guid": "bb6e25b8-f912-4e9a-a77a-923247bf0985",
                "language": "python"
            },
            "outputs": [],
            "execution_count": null
        },
        {
            "cell_type": "code",
            "source": [
                "#Extract a column\n",
                "df.demand"
            ],
            "metadata": {
                "azdata_cell_guid": "60152989-a94e-43c3-b435-2c9b1b5e7cd5",
                "language": "python"
            },
            "outputs": [],
            "execution_count": null
        },
        {
            "cell_type": "code",
            "source": [
                "#Extract a column\n",
                "df['demand']"
            ],
            "metadata": {
                "azdata_cell_guid": "8e33bbd2-0402-4751-8dd1-5d36410a3caa",
                "language": "python"
            },
            "outputs": [],
            "execution_count": null
        },
        {
            "cell_type": "code",
            "source": [
                "#Extract several columns\n",
                "df[['name', 'demand']]"
            ],
            "metadata": {
                "azdata_cell_guid": "2086b25d-79a8-4fd8-9806-5969c741105c",
                "language": "python"
            },
            "outputs": [],
            "execution_count": null
        },
        {
            "cell_type": "code",
            "source": [
                "#.iloc[ ] allows us to retrieve rows and columns by position.\n",
                "df.iloc[0, 1]"
            ],
            "metadata": {
                "azdata_cell_guid": "b417777b-8f52-4565-a2a3-b4354a27b0ef",
                "language": "python"
            },
            "outputs": [],
            "execution_count": null
        },
        {
            "cell_type": "code",
            "source": [
                "#Extract information of first product\n",
                "df.iloc[0, :]"
            ],
            "metadata": {
                "azdata_cell_guid": "059defce-04f5-4634-b39d-f8d7dbbd1173",
                "language": "python"
            },
            "outputs": [],
            "execution_count": null
        },
        {
            "cell_type": "code",
            "source": [
                "#Extract demand column\n",
                "df.iloc[:, 1]"
            ],
            "metadata": {
                "azdata_cell_guid": "81e17721-c9cb-4d96-96c3-d5da067270c5",
                "language": "python"
            },
            "outputs": [],
            "execution_count": null
        },
        {
            "cell_type": "code",
            "source": [
                "#Extract name & brand columns for p1, p3, and p4\n",
                "df.iloc[[0, 2, 3], [0, 2]]"
            ],
            "metadata": {
                "azdata_cell_guid": "a8452354-606f-4f3a-8796-59a68cda40b3",
                "language": "python"
            },
            "outputs": [],
            "execution_count": null
        },
        {
            "cell_type": "code",
            "source": [
                "#.loc[] selects data by the label of the rows and columns. \n",
                "#Extract information of first product\n",
                "df.loc['p1', :]"
            ],
            "metadata": {
                "azdata_cell_guid": "a09ec8d3-984a-405b-9ca6-44e07132ffb6",
                "language": "python"
            },
            "outputs": [],
            "execution_count": null
        },
        {
            "cell_type": "code",
            "source": [
                "#Extract demand column\n",
                "df.loc[:, 'demand']"
            ],
            "metadata": {
                "azdata_cell_guid": "f94b05f2-8182-4b88-931c-909b7db8f92f",
                "language": "python"
            },
            "outputs": [],
            "execution_count": null
        },
        {
            "cell_type": "code",
            "source": [
                "#Extract name & brand columns for p1, p3, and p4\n",
                "df.loc[['p1', 'p3', 'p4'], ['name', 'brand']]"
            ],
            "metadata": {
                "azdata_cell_guid": "68677eee-e5cd-47b2-adfb-6d1839ecdec0",
                "language": "python"
            },
            "outputs": [],
            "execution_count": null
        },
        {
            "cell_type": "code",
            "source": [
                "#Check if demand below 1500\n",
                "df['demand'] < 1500"
            ],
            "metadata": {
                "azdata_cell_guid": "e5ddec1f-ce1b-4134-8bee-b0746faefa63",
                "language": "python"
            },
            "outputs": [],
            "execution_count": null
        },
        {
            "cell_type": "code",
            "source": [
                "#Identify products with demand below 1500\n",
                "df.loc[df['demand'] < 1500, 'name']"
            ],
            "metadata": {
                "azdata_cell_guid": "acf0aabd-a304-4ce6-8977-d939a1ba4467",
                "language": "python"
            },
            "outputs": [],
            "execution_count": null
        },
        {
            "cell_type": "markdown",
            "source": [
                "#### Modifying Dataframes"
            ],
            "metadata": {
                "azdata_cell_guid": "a8beadb6-bc2f-4bac-9113-dd76b5b6f5a5"
            }
        },
        {
            "cell_type": "code",
            "source": [
                "#Add new column \n",
                "df['price'] = [20, 15, 50, 10]\n",
                "df"
            ],
            "metadata": {
                "azdata_cell_guid": "4103db8b-e47c-4ecc-a035-d39af669ec96",
                "language": "python"
            },
            "outputs": [],
            "execution_count": null
        },
        {
            "cell_type": "code",
            "source": [
                "#Add new row\n",
                "df.loc['p5', :] = ['p5', 1000, 'x', 500, 60]\n",
                "df"
            ],
            "metadata": {
                "azdata_cell_guid": "43ba3946-2ab5-4875-8530-2a1ef121bbca",
                "language": "python"
            },
            "outputs": [],
            "execution_count": null
        },
        {
            "cell_type": "code",
            "source": [
                "#Change demand of 'p3' into 700\n",
                "df.loc['p3', 'demand'] = 700\n",
                "df"
            ],
            "metadata": {
                "azdata_cell_guid": "0eccbaec-4f9a-4404-9a60-df7e97ed7bbe",
                "language": "python"
            },
            "outputs": [],
            "execution_count": null
        },
        {
            "cell_type": "code",
            "source": [
                "#Calculate total revenue for each product\n",
                "df['revenue'] = df['demand'] * df['price']\n",
                "df"
            ],
            "metadata": {
                "azdata_cell_guid": "c8f22707-8b78-4c83-9c64-49df6ab3f916",
                "language": "python"
            },
            "outputs": [],
            "execution_count": null
        },
        {
            "cell_type": "code",
            "source": [
                "#Modifying dataframe using conditional selection\n",
                "#Question: increase price of products below 20 by 5% and\n",
                "# recalculate monthly revenue\n",
                "df.loc[df['price'] < 20, 'price'] = 1.05 * df.loc[df['price'] < 20, 'price']\n",
                "df['revenue'] = df['demand'] * df['price']\n",
                "df"
            ],
            "metadata": {
                "azdata_cell_guid": "ea3a0983-c6ad-411a-adf0-bd42aed301c7",
                "language": "python"
            },
            "outputs": [],
            "execution_count": null
        },
        {
            "cell_type": "markdown",
            "source": [
                "### Import CSV Data File into a Pandas Dataframe"
            ],
            "metadata": {
                "azdata_cell_guid": "71f707a1-ca78-4aa5-a59e-5f04824c3e1c"
            }
        },
        {
            "cell_type": "code",
            "source": [
                "#Get work directory\n",
                "import os\n",
                "os.getcwd()"
            ],
            "metadata": {
                "azdata_cell_guid": "85817b08-a734-4c5f-a163-197324b57053",
                "language": "python"
            },
            "outputs": [],
            "execution_count": null
        },
        {
            "cell_type": "code",
            "source": [
                "#Read from work directory\n",
                "data = pd.read_csv('sample_data.csv')"
            ],
            "metadata": {
                "azdata_cell_guid": "3a40f9a1-c125-4d8a-b30a-3779baf1d2bc",
                "language": "python"
            },
            "outputs": [],
            "execution_count": null
        },
        {
            "cell_type": "code",
            "source": [
                "#Read from desktop\n",
                "data = pd.read_csv('C:\\\\Users\\\\FarzadM\\\\Desktop\\\\sample_data.csv')"
            ],
            "metadata": {
                "azdata_cell_guid": "67f462c1-ba14-49e9-846b-f1ac87a4d4d1",
                "language": "python"
            },
            "outputs": [],
            "execution_count": null
        },
        {
            "cell_type": "code",
            "source": [
                "#Type\n",
                "type(data)"
            ],
            "metadata": {
                "azdata_cell_guid": "73e9d3a6-7fb1-4504-8e06-8ade19680186",
                "language": "python"
            },
            "outputs": [],
            "execution_count": null
        },
        {
            "cell_type": "markdown",
            "source": [
                "### Example: CRM database"
            ],
            "metadata": {
                "azdata_cell_guid": "43baf8a3-f0f3-40cb-88cf-701dd57113bb"
            }
        },
        {
            "cell_type": "code",
            "source": [
                "#Head\n",
                "data.head()"
            ],
            "metadata": {
                "azdata_cell_guid": "16aec7fc-a795-4178-b81b-bb9759d69e65",
                "language": "python"
            },
            "outputs": [],
            "execution_count": null
        },
        {
            "cell_type": "code",
            "source": [
                "#Tail\n",
                "data.tail()"
            ],
            "metadata": {
                "azdata_cell_guid": "11a652f8-2bb5-4261-904d-55f057983ab0",
                "language": "python"
            },
            "outputs": [],
            "execution_count": null
        },
        {
            "cell_type": "code",
            "source": [
                "#Shape\n",
                "data.shape"
            ],
            "metadata": {
                "azdata_cell_guid": "742e6f63-eb04-4d9d-be9c-4389b2e0aa54",
                "language": "python"
            },
            "outputs": [],
            "execution_count": null
        },
        {
            "cell_type": "code",
            "source": [
                "data.info()"
            ],
            "metadata": {
                "azdata_cell_guid": "502389bf-402b-49b4-9fc7-31745fdbc48b",
                "language": "python"
            },
            "outputs": [],
            "execution_count": null
        },
        {
            "cell_type": "code",
            "source": [
                "#Missing values?\n",
                "data.isnull()"
            ],
            "metadata": {
                "azdata_cell_guid": "4259881f-33d4-4558-8845-4a6c81234076",
                "language": "python"
            },
            "outputs": [],
            "execution_count": null
        },
        {
            "cell_type": "code",
            "source": [
                "#Missing values?\n",
                "np.sum(data.isnull(), axis = 0)"
            ],
            "metadata": {
                "azdata_cell_guid": "1d987f02-c3d3-407c-8d0b-0e74c306dd4e",
                "language": "python"
            },
            "outputs": [],
            "execution_count": null
        },
        {
            "cell_type": "code",
            "source": [
                "#Q1: Extract information of all female customers.\n",
                "data.loc[data['sex'] == 'F', :]"
            ],
            "metadata": {
                "azdata_cell_guid": "14eea186-ac49-4720-8dbd-eb4a71787789",
                "language": "python"
            },
            "outputs": [],
            "execution_count": null
        },
        {
            "cell_type": "code",
            "source": [
                "#Q2: Extract  'sex', 'age', and 'income' columns\n",
                "#    of all female customers.\n",
                "data.loc[data['sex'] == 'F', ['sex', 'income', 'age']]"
            ],
            "metadata": {
                "azdata_cell_guid": "438bb3d9-0d67-4914-8dbc-32bcd0b10ee0",
                "language": "python"
            },
            "outputs": [],
            "execution_count": null
        },
        {
            "cell_type": "code",
            "source": [
                "#Q3: Extract information of all female customers who are bellow 40 years old.\n",
                "data.loc[(data['sex'] == 'F') & (data['age'] < 40), :]"
            ],
            "metadata": {
                "azdata_cell_guid": "b68825f4-2379-4f7e-b26c-0614305eefdf",
                "language": "python"
            },
            "outputs": [],
            "execution_count": null
        },
        {
            "cell_type": "code",
            "source": [
                "#Q4: Extract  'sex', 'age', and 'income' columns\n",
                "#    for male customers who are above 50 years old\n",
                "data.loc[(data['age'] > 50) & (data['sex'] == 'M'), \n",
                "         ['sex', 'age', 'income']]"
            ],
            "metadata": {
                "azdata_cell_guid": "e6741945-7f73-48c6-96c8-8ac7db5a753b",
                "language": "python"
            },
            "outputs": [],
            "execution_count": null
        },
        {
            "cell_type": "code",
            "source": [
                "#Q5: What percentage of customers are female?\n",
                "round(np.sum(data['sex'] == 'F') / data.shape[0] * 100, 2)"
            ],
            "metadata": {
                "azdata_cell_guid": "c3abbac3-4a39-4093-9815-c34fb3d6c32b",
                "language": "python"
            },
            "outputs": [],
            "execution_count": null
        },
        {
            "cell_type": "code",
            "source": [
                "#Q6: Calculate percentage of missing values in is_employed.\n",
                "np.sum(data['is_employed'].isnull()) / data.shape[0] * 100"
            ],
            "metadata": {
                "azdata_cell_guid": "4b25a93c-905b-4bfa-8979-f2cbf34a479a",
                "language": "python"
            },
            "outputs": [],
            "execution_count": null
        },
        {
            "cell_type": "code",
            "source": [
                "#Q7: What percentage of customers are employed?\n",
                "round(sum(data['is_employed'] == True) / sum(data['is_employed'].notnull()) * 100, 2)"
            ],
            "metadata": {
                "azdata_cell_guid": "7a1daac8-f1d3-463f-8d9a-5e41bc33a00f",
                "language": "python"
            },
            "outputs": [],
            "execution_count": null
        },
        {
            "cell_type": "code",
            "source": [
                "#Q8: What percentage of customers are between 25 and 35?\n",
                "round(np.sum((data['age'] > 25) & \n",
                "             (data['age'] < 35)) / data.shape[0] * 100, 2)"
            ],
            "metadata": {
                "azdata_cell_guid": "ff97d2f9-dd0b-42ec-ada4-58d9b9995166",
                "language": "python"
            },
            "outputs": [],
            "execution_count": null
        },
        {
            "cell_type": "code",
            "source": [
                "#Q9: What percentage of male customers are above 30?\n",
                "round(np.sum((data['sex'] == 'M') & \n",
                "             (data['age'] > 30)) / np.sum(data['sex'] == 'M') * 100, 2)"
            ],
            "metadata": {
                "azdata_cell_guid": "bbdd8e60-a575-4445-81aa-9a25ebc2ecab",
                "language": "python"
            },
            "outputs": [],
            "execution_count": null
        },
        {
            "cell_type": "code",
            "source": [
                "#Q10: Extract those customers from Florida \n",
                "#     who are older than 75% of all customers.\n",
                "data.loc[(data['state_of_res'] == 'Florida') & \n",
                "         (data['age'] > np.quantile(data['age'], 0.75)), :]"
            ],
            "metadata": {
                "azdata_cell_guid": "fe6b6da3-4616-4274-8167-cf78a8c37416",
                "language": "python"
            },
            "outputs": [],
            "execution_count": null
        },
        {
            "cell_type": "code",
            "source": [
                "#3rd quantile of age\n",
                "np.quantile(data['age'], 0.75)"
            ],
            "metadata": {
                "azdata_cell_guid": "032c5f0c-ad5d-4be4-abf4-5cef0d48d2a9",
                "language": "python"
            },
            "outputs": [],
            "execution_count": null
        },
        {
            "cell_type": "code",
            "source": [
                "#Return counts of unique values.\n",
                "data['state_of_res'].value_counts()"
            ],
            "metadata": {
                "azdata_cell_guid": "fb6b1608-2d58-44bd-bb7a-80c245c9ca49",
                "language": "python"
            },
            "outputs": [],
            "execution_count": null
        },
        {
            "cell_type": "markdown",
            "source": [
                "# End of Code"
            ],
            "metadata": {
                "azdata_cell_guid": "a55ada4d-13ed-4266-a0e5-76337afe4b91"
            }
        }
    ]
}